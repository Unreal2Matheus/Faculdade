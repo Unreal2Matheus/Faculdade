{
  "nbformat": 4,
  "nbformat_minor": 0,
  "metadata": {
    "colab": {
      "name": "Untitled0.ipynb",
      "provenance": [],
      "authorship_tag": "ABX9TyNcloGsLP4FvmyojjVfiGfi",
      "include_colab_link": true
    },
    "kernelspec": {
      "name": "python3",
      "display_name": "Python 3"
    },
    "language_info": {
      "name": "python"
    }
  },
  "cells": [
    {
      "cell_type": "markdown",
      "metadata": {
        "id": "view-in-github",
        "colab_type": "text"
      },
      "source": [
        "<a href=\"https://colab.research.google.com/github/Unreal2Matheus/Faculdade/blob/master/Untitled0.ipynb\" target=\"_parent\"><img src=\"https://colab.research.google.com/assets/colab-badge.svg\" alt=\"Open In Colab\"/></a>"
      ]
    },
    {
      "cell_type": "code",
      "execution_count": 6,
      "metadata": {
        "colab": {
          "base_uri": "https://localhost:8080/"
        },
        "id": "4Yegua-w3ffG",
        "outputId": "03c7f5bb-29bd-40c3-ccb7-0e1b0d9649ef"
      },
      "outputs": [
        {
          "output_type": "stream",
          "name": "stdout",
          "text": [
            "['CV = Pressure\\n', 'MV = Velocity\\n', 'AV = Angle \\n']\n",
            "                MV\n",
            "0  CV = Pressure\\n\n",
            "1  MV = Velocity\\n\n",
            "2    AV = Angle \\n\n"
          ]
        }
      ],
      "source": [
        "import pandas as pd \n",
        "with open('teste.txt') as f:\n",
        "    lines = f.readlines()\n",
        "    print(lines)\n",
        "    lines2 = pd.DataFrame(data=lines,columns = ['MV'])\n",
        "    print (lines2)\n"
      ]
    }
  ]
}